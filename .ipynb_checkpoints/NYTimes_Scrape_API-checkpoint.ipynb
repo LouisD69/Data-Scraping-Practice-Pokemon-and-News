{
 "cells": [
  {
   "cell_type": "markdown",
   "metadata": {},
   "source": [
    "Alexis Louis Dela Cruz\n",
    "Data Science Elective S16\n"
   ]
  },
  {
   "cell_type": "markdown",
   "metadata": {},
   "source": [
    "### Install NY Times API\n",
    "NY Times API lets you run a filtered search for articles and extract some metadata but not the full contents of the article.\n"
   ]
  },
  {
   "cell_type": "code",
   "execution_count": 11,
   "metadata": {},
   "outputs": [],
   "source": [
    "#Restart kernel after running this for the first time\n",
    "#comment this out after first run, you only need to install once\n",
    "\n",
    "#import sys  \n",
    "#!{sys.executable} -m pip install --user pynytimes"
   ]
  },
  {
   "cell_type": "code",
   "execution_count": 2,
   "metadata": {},
   "outputs": [],
   "source": [
    "from pynytimes import NYTAPI\n",
    "import json\n",
    "import datetime"
   ]
  },
  {
   "cell_type": "markdown",
   "metadata": {},
   "source": [
    "### Import API key (requires account in NY Times Developers Portal)"
   ]
  },
  {
   "cell_type": "code",
   "execution_count": 3,
   "metadata": {},
   "outputs": [],
   "source": [
    "# you can get a key by signing up in the NY Times Developers Portal\n",
    "key = 'PhJnw4UNjmZIfyv5tAdlvAQDBBTz1xdD'\n",
    "nyt = NYTAPI(key, parse_dates=False)"
   ]
  },
  {
   "cell_type": "markdown",
   "metadata": {},
   "source": [
    "### Get all articles published within March 11 to 12, 2021 by NY Times"
   ]
  },
  {
   "cell_type": "code",
   "execution_count": 4,
   "metadata": {},
   "outputs": [],
   "source": [
    "# set n to n amount of news results to scrape\n",
    "# article_search always returns results in multiples of 10\n",
    "# note: large n will prompt a userwarning, query will also take long (i tried 100 and it happened)\n",
    "# for now, I settled with 50\n",
    "n = 50\n",
    "\n",
    "articles = nyt.article_search(\n",
    "    results=n,\n",
    "    dates = {\n",
    "        \"begin\": datetime.datetime(2021, 3, 11),\n",
    "        \"end\": datetime.datetime(2021, 3, 12)\n",
    "                \n",
    "    },\n",
    "    options = {\n",
    "        \"type_of_material\": [\n",
    "            \"News\"\n",
    "        ]\n",
    "    }\n",
    ")"
   ]
  },
  {
   "cell_type": "markdown",
   "metadata": {},
   "source": [
    "Extracting the author name/s was not very straightforward compared to other metadata"
   ]
  },
  {
   "cell_type": "code",
   "execution_count": 5,
   "metadata": {
    "scrolled": false
   },
   "outputs": [
    {
     "data": {
      "text/plain": [
       "'Jesse'"
      ]
     },
     "execution_count": 5,
     "metadata": {},
     "output_type": "execute_result"
    }
   ],
   "source": [
    "articles[1]['byline']['person'][1]['firstname']"
   ]
  },
  {
   "cell_type": "code",
   "execution_count": 12,
   "metadata": {},
   "outputs": [
    {
     "data": {
      "text/plain": [
       "'McKinley'"
      ]
     },
     "execution_count": 12,
     "metadata": {},
     "output_type": "execute_result"
    }
   ],
   "source": [
    "articles[1]['byline']['person'][1]['lastname']"
   ]
  },
  {
   "cell_type": "code",
   "execution_count": 6,
   "metadata": {},
   "outputs": [
    {
     "data": {
      "text/plain": [
       "2"
      ]
     },
     "execution_count": 6,
     "metadata": {},
     "output_type": "execute_result"
    }
   ],
   "source": [
    "len(articles[1]['byline']['person'])"
   ]
  },
  {
   "cell_type": "code",
   "execution_count": 14,
   "metadata": {},
   "outputs": [
    {
     "data": {
      "text/plain": [
       "'2021-03-12T12:23:13+0000'"
      ]
     },
     "execution_count": 14,
     "metadata": {},
     "output_type": "execute_result"
    }
   ],
   "source": [
    "# pub_date is in string format, and it was not in very readable format\n",
    "articles[0]['pub_date']"
   ]
  },
  {
   "cell_type": "code",
   "execution_count": 8,
   "metadata": {},
   "outputs": [],
   "source": [
    "news_json = []\n",
    "\n",
    "for i in range(0, len(articles), 1):\n",
    "    date = articles[i]['pub_date']    \n",
    "    date = datetime.datetime.strptime(date, \"%Y-%m-%dT%H:%M:%S%z\")\n",
    "\n",
    "    title = articles[i]['headline']['main']\n",
    "    link = articles[i]['web_url']\n",
    "    abstract = articles[i]['abstract']\n",
    "    content = articles[i]['lead_paragraph']\n",
    "    \n",
    "    # The article may have more than 1 author\n",
    "    # The author name is divided into firstname and lastname\n",
    "    authors = []\n",
    "    \n",
    "    for j in range(0, len(articles[i]['byline']['person']), 1):\n",
    "        authors.append(str(articles[i]['byline']['person'][j]['firstname']) + \" \" +\n",
    "                      str(articles[i]['byline']['person'][j]['lastname']))\n",
    "        \n",
    "    news_json.append({\n",
    "                # convert date to a more readable format\n",
    "                \"date\": date.strftime(\"%m/%d/%Y, %H:%M:%S\"),\n",
    "                \"title\": title,\n",
    "                \"link\": link,\n",
    "                \"abstract\": abstract,\n",
    "                \"content\": content,\n",
    "                \"author\": authors\n",
    "            })"
   ]
  },
  {
   "cell_type": "code",
   "execution_count": 9,
   "metadata": {},
   "outputs": [
    {
     "data": {
      "text/plain": [
       "[{'date': '03/12/2021, 12:23:13',\n",
       "  'title': 'Spurred by Tragedy to a Life of Female Empowerment',\n",
       "  'link': 'https://www.nytimes.com/2021/03/12/world/africa/senegal-female-empowerment-diouf-fishing.html',\n",
       "  'abstract': 'After her son’s death, Yayi Bayam Diouf decided to fish for a living. That meant challenging Senegal’s patriarchy. She won, and brought countless women with her.',\n",
       "  'content': 'THIAROYE-SUR-MER, Senegal — Sometimes when she’s alone and looking at the sea, Yayi Bayam Diouf imagines the silhouette of her son passing over the waters offshore.',\n",
       "  'author': ['Aida Alami']},\n",
       " {'date': '03/11/2021, 01:07:17',\n",
       "  'title': 'Aide Says Cuomo Groped Her, as New Details of Account Emerge',\n",
       "  'link': 'https://www.nytimes.com/2021/03/10/nyregion/andrew-cuomo-sexual-harassment.html',\n",
       "  'abstract': 'Gov. Andrew Cuomo characterized the new allegations as “gut-wrenching,” but insisted that he has “never done anything like this.”',\n",
       "  'content': 'An aide to Gov. Andrew M. Cuomo who had accused the governor of improper behavior said that Mr. Cuomo had groped her in the Executive Mansion, according to new details of her account reported by The Times Union of Albany.',\n",
       "  'author': ['Luis Ferré-Sadurní', 'Jesse McKinley']},\n",
       " {'date': '03/11/2021, 12:44:58',\n",
       "  'title': 'Even Stuck at Home, These Clothes Will Take You Places',\n",
       "  'link': 'https://www.nytimes.com/2021/03/11/style/Chanel-Louis-Vuitton-Balmain-fashion-shows.html',\n",
       "  'abstract': 'Going through the looking glass with Dior, up in the mountains at Miu Miu and on an odyssey with Louis Vuitton.',\n",
       "  'content': 'Almost exactly a year ago, the Louis Vuitton show, held in the courtyard of the Louvre, brought the curtain down on the runway circus as it once was.',\n",
       "  'author': ['Vanessa Friedman']},\n",
       " {'date': '03/11/2021, 10:00:15',\n",
       "  'title': 'Storytime Lets Fathers Form Bonds From Behind Bars',\n",
       "  'link': 'https://www.nytimes.com/2021/03/11/parenting/bedtime-stories-prison.html',\n",
       "  'abstract': 'Across the country, inmates are distance-reading bedtime stories to their kids and finding their own paths to redemption.',\n",
       "  'content': 'Greg Williams, 45, doesn’t remember the first book he read to his daughters in 2006, but he remembers picking the shortest book in a stack, hoping he could get to the end without crying on camera. He imagined his girls in their pajamas, tucked into bed, listening. As he turned each page, he imagined that he was there, too.',\n",
       "  'author': ['Ludwig Hurtado']},\n",
       " {'date': '03/12/2021, 02:18:03',\n",
       "  'title': 'Biden condemns ‘vicious’ hate crimes against Asian-Americans.',\n",
       "  'link': 'https://www.nytimes.com/2021/03/11/us/biden-asian-americans-hate-crimes.html',\n",
       "  'abstract': '“It’s wrong,” President Biden said. “It’s un-American, and it must stop.”',\n",
       "  'content': 'President Biden on Thursday evening condemned “vicious” hate crimes against Asian-Americans, who he said have been “attacked, harassed, blamed and scapegoated” during the coronavirus pandemic.',\n",
       "  'author': ['Madeleine Ngo']}]"
      ]
     },
     "execution_count": 9,
     "metadata": {},
     "output_type": "execute_result"
    }
   ],
   "source": [
    "news_json[:5]"
   ]
  },
  {
   "cell_type": "markdown",
   "metadata": {},
   "source": [
    "### Save them in a JSON file"
   ]
  },
  {
   "cell_type": "code",
   "execution_count": 10,
   "metadata": {},
   "outputs": [],
   "source": [
    "with open('news.json', 'w', encoding='utf-8') as f:\n",
    "    json.dump(news_json, f, ensure_ascii=False, indent=4)\n",
    "            "
   ]
  },
  {
   "cell_type": "code",
   "execution_count": null,
   "metadata": {},
   "outputs": [],
   "source": []
  }
 ],
 "metadata": {
  "kernelspec": {
   "display_name": "Python 3",
   "language": "python",
   "name": "python3"
  },
  "language_info": {
   "codemirror_mode": {
    "name": "ipython",
    "version": 3
   },
   "file_extension": ".py",
   "mimetype": "text/x-python",
   "name": "python",
   "nbconvert_exporter": "python",
   "pygments_lexer": "ipython3",
   "version": "3.7.6"
  }
 },
 "nbformat": 4,
 "nbformat_minor": 5
}
