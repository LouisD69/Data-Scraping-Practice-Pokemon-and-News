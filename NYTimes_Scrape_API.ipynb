{
 "cells": [
  {
   "cell_type": "markdown",
   "metadata": {},
   "source": [
    "Alexis Louis Dela Cruz\n",
    "Data Science Elective S16\n"
   ]
  },
  {
   "cell_type": "markdown",
   "metadata": {},
   "source": [
    "### Install NY Times API and Newspaper API\n",
    "NY Times API lets you run a filtered search for articles and extract some metadata but not the full article.\n",
    "\n",
    "Newspaper API lets you parse an online news article by using the url of that news article. This API can also easily extract the authors, which is very tricky to do with the NY Times API.\n"
   ]
  },
  {
   "cell_type": "code",
   "execution_count": 1,
   "metadata": {},
   "outputs": [],
   "source": [
    "#Restart kernel after running this for the first time\n",
    "#comment this out after first run\n",
    "#import sys  \n",
    "#!{sys.executable} -m pip install --user pynytimes\n",
    "#!{sys.executable} -m pip install newspaper3k"
   ]
  },
  {
   "cell_type": "code",
   "execution_count": 2,
   "metadata": {},
   "outputs": [],
   "source": [
    "from pynytimes import NYTAPI\n",
    "from newspaper import Article\n",
    "import json\n",
    "import datetime\n",
    "\n",
    "\n",
    "\n",
    "\n",
    "URL=\"https://api.nytimes.com/svc/search/v2/articlesearch.json\""
   ]
  },
  {
   "cell_type": "markdown",
   "metadata": {},
   "source": [
    "### Import API key (requires account in NY Times Developers)"
   ]
  },
  {
   "cell_type": "code",
   "execution_count": 3,
   "metadata": {},
   "outputs": [],
   "source": [
    "key = 'PhJnw4UNjmZIfyv5tAdlvAQDBBTz1xdD'\n",
    "nyt = NYTAPI(key, parse_dates=False)"
   ]
  },
  {
   "cell_type": "markdown",
   "metadata": {},
   "source": [
    "### Get all articles published within March 11 to 12, 2021 by NY Times"
   ]
  },
  {
   "cell_type": "code",
   "execution_count": 4,
   "metadata": {},
   "outputs": [
    {
     "name": "stderr",
     "output_type": "stream",
     "text": [
      "C:\\Users\\acer\\AppData\\Roaming\\Python\\Python37\\site-packages\\pynytimes\\api.py:631: UserWarning: Asking for a lot of results, because of rate limits it can take a while.\n",
      "  \"Asking for a lot of results, because of rate limits it can take a while.\"\n"
     ]
    }
   ],
   "source": [
    "# set n to n amount of news results to scrape\n",
    "# article_search always returns results in multiples of 10\n",
    "# note: large n will prompt a userwarning, query will also take long (i tried 100 and it happened)\n",
    "n = 100\n",
    "\n",
    "articles = nyt.article_search(\n",
    "    results=n,\n",
    "    dates = {\n",
    "        \"begin\": datetime.datetime(2021, 3, 11),\n",
    "        \"end\": datetime.datetime(2021, 3, 12)\n",
    "                \n",
    "    },\n",
    "    options = {\n",
    "        \"type_of_material\": [\n",
    "            \"News\"\n",
    "        ]\n",
    "    }\n",
    ")"
   ]
  },
  {
   "cell_type": "code",
   "execution_count": 12,
   "metadata": {
    "scrolled": false
   },
   "outputs": [
    {
     "data": {
      "text/plain": [
       "'Spurred by Tragedy to a Life of Female Empowerment'"
      ]
     },
     "execution_count": 12,
     "metadata": {},
     "output_type": "execute_result"
    }
   ],
   "source": [
    "articles[0]['headline']['main']"
   ]
  },
  {
   "cell_type": "code",
   "execution_count": 6,
   "metadata": {
    "scrolled": false
   },
   "outputs": [],
   "source": [
    "news_json = []\n",
    "\n",
    "for i in range(0, len(articles), 1):\n",
    "    date = articles[i]['pub_date']\n",
    "    date = datetime.datetime.strptime(date, \"%Y-%m-%dT%H:%M:%S%z\")\n",
    "    title = articles[i]['headline']['main']\n",
    "    link = articles[i]['web_url']\n",
    "    article = Article(link)\n",
    "    article.download()\n",
    "    article.parse()\n",
    "    authors = article.authors\n",
    "    news_json.append({\n",
    "                \"date\": date.strftime(\"%m/%d/%Y, %H:%M:%S\"),\n",
    "                \"title\": title,\n",
    "                \"full_article\": link,\n",
    "                \"author\": authors\n",
    "            })"
   ]
  },
  {
   "cell_type": "code",
   "execution_count": 10,
   "metadata": {},
   "outputs": [
    {
     "data": {
      "text/plain": [
       "[{'date': '03/12/2021, 12:23:13',\n",
       "  'title': 'Spurred by Tragedy to a Life of Female Empowerment',\n",
       "  'full_article': 'https://www.nytimes.com/2021/03/12/world/africa/senegal-female-empowerment-diouf-fishing.html',\n",
       "  'author': ['Aida Alami']},\n",
       " {'date': '03/11/2021, 01:07:17',\n",
       "  'title': 'Aide Says Cuomo Groped Her, as New Details of Account Emerge',\n",
       "  'full_article': 'https://www.nytimes.com/2021/03/10/nyregion/andrew-cuomo-sexual-harassment.html',\n",
       "  'author': ['Luis Ferré-Sadurní', 'Jesse Mckinley']},\n",
       " {'date': '03/11/2021, 12:44:58',\n",
       "  'title': 'Even Stuck at Home, These Clothes Will Take You Places',\n",
       "  'full_article': 'https://www.nytimes.com/2021/03/11/style/Chanel-Louis-Vuitton-Balmain-fashion-shows.html',\n",
       "  'author': ['Vanessa Friedman']},\n",
       " {'date': '03/11/2021, 10:00:15',\n",
       "  'title': 'Storytime Lets Fathers Form Bonds From Behind Bars',\n",
       "  'full_article': 'https://www.nytimes.com/2021/03/11/parenting/bedtime-stories-prison.html',\n",
       "  'author': ['Ludwig Hurtado']},\n",
       " {'date': '03/12/2021, 02:18:03',\n",
       "  'title': 'Biden condemns ‘vicious’ hate crimes against Asian-Americans.',\n",
       "  'full_article': 'https://www.nytimes.com/2021/03/11/us/biden-asian-americans-hate-crimes.html',\n",
       "  'author': ['Madeleine Ngo']}]"
      ]
     },
     "execution_count": 10,
     "metadata": {},
     "output_type": "execute_result"
    }
   ],
   "source": [
    "news_json[:5]"
   ]
  },
  {
   "cell_type": "markdown",
   "metadata": {},
   "source": [
    "### Save them in a JSON file"
   ]
  },
  {
   "cell_type": "code",
   "execution_count": 8,
   "metadata": {},
   "outputs": [],
   "source": [
    "with open('news.json', 'w', encoding='utf-8') as f:\n",
    "    json.dump(news_json, f, ensure_ascii=False, indent=4)\n",
    "            "
   ]
  },
  {
   "cell_type": "code",
   "execution_count": null,
   "metadata": {},
   "outputs": [],
   "source": []
  }
 ],
 "metadata": {
  "kernelspec": {
   "display_name": "Python 3",
   "language": "python",
   "name": "python3"
  },
  "language_info": {
   "codemirror_mode": {
    "name": "ipython",
    "version": 3
   },
   "file_extension": ".py",
   "mimetype": "text/x-python",
   "name": "python",
   "nbconvert_exporter": "python",
   "pygments_lexer": "ipython3",
   "version": "3.7.6"
  }
 },
 "nbformat": 4,
 "nbformat_minor": 5
}
